{
 "cells": [
  {
   "cell_type": "markdown",
   "metadata": {},
   "source": [
    "## Assignment 1 submission\n",
    "__Name:__  Duong Doan Tung\n",
    "\n",
    "__Student number:__  21010294\n",
    "\n",
    "__Programming language used:__  Python\n",
    "\n",
    "__Programming environment used:__  Jupyter Notebook\n",
    "\n",
    "---\n"
   ]
  },
  {
   "cell_type": "markdown",
   "metadata": {},
   "source": [
    "#### Part 1\n",
    "##### 1.1"
   ]
  },
  {
   "cell_type": "code",
   "execution_count": 2,
   "metadata": {},
   "outputs": [
    {
     "name": "stdout",
     "output_type": "stream",
     "text": [
      "1 * 1 = 1\n",
      "1 * 2 = 2\n",
      "1 * 3 = 3\n",
      "1 * 4 = 4\n",
      "1 * 5 = 5\n",
      "1 * 6 = 6\n",
      "1 * 7 = 7\n",
      "1 * 8 = 8\n",
      "1 * 9 = 9\n",
      "1 * 10 = 10\n"
     ]
    }
   ],
   "source": [
    "a = int(input(\"Enter a integer: \"))\n",
    "for i in range(1,11):\n",
    "    print(a,\"*\",i,\"=\",a*i)"
   ]
  },
  {
   "cell_type": "markdown",
   "metadata": {},
   "source": [
    "##### 1.2"
   ]
  },
  {
   "cell_type": "code",
   "execution_count": 11,
   "metadata": {},
   "outputs": [
    {
     "name": "stdout",
     "output_type": "stream",
     "text": [
      "                                                                                                   1\n",
      "                                                                                                 2 3 2\n",
      "                                                                                               3 4 5 4 3\n",
      "                                                                                             4 5 6 7 6 5 4\n",
      "                                                                                           5 6 7 8 9 8 7 6 5\n",
      "                                                                                         6 7 8 9101110 9 8 7 6\n",
      "                                                                                       7 8 910111213121110 9 8 7\n",
      "                                                                                     8 91011121314151413121110 9 8\n",
      "                                                                                   9101112131415161716151413121110 9\n",
      "                                                                                10111213141516171819181716151413121110\n",
      "                                                                              111213141516171819202120191817161514131211\n",
      "                                                                            1213141516171819202122232221201918171615141312\n",
      "                                                                          13141516171819202122232425242322212019181716151413\n",
      "                                                                        141516171819202122232425262726252423222120191817161514\n",
      "                                                                      1516171819202122232425262728292827262524232221201918171615\n",
      "                                                                    16171819202122232425262728293031302928272625242322212019181716\n",
      "                                                                  171819202122232425262728293031323332313029282726252423222120191817\n",
      "                                                                1819202122232425262728293031323334353433323130292827262524232221201918\n",
      "                                                              19202122232425262728293031323334353637363534333231302928272625242322212019\n",
      "                                                            202122232425262728293031323334353637383938373635343332313029282726252423222120\n",
      "                                                          2122232425262728293031323334353637383940414039383736353433323130292827262524232221\n",
      "                                                        22232425262728293031323334353637383940414243424140393837363534333231302928272625242322\n",
      "                                                      232425262728293031323334353637383940414243444544434241403938373635343332313029282726252423\n",
      "                                                    2425262728293031323334353637383940414243444546474645444342414039383736353433323130292827262524\n",
      "                                                  25262728293031323334353637383940414243444546474849484746454443424140393837363534333231302928272625\n",
      "                                                262728293031323334353637383940414243444546474849505150494847464544434241403938373635343332313029282726\n",
      "                                              2728293031323334353637383940414243444546474849505152535251504948474645444342414039383736353433323130292827\n",
      "                                            28293031323334353637383940414243444546474849505152535455545352515049484746454443424140393837363534333231302928\n",
      "                                          293031323334353637383940414243444546474849505152535455565756555453525150494847464544434241403938373635343332313029\n",
      "                                        3031323334353637383940414243444546474849505152535455565758595857565554535251504948474645444342414039383736353433323130\n",
      "                                      31323334353637383940414243444546474849505152535455565758596061605958575655545352515049484746454443424140393837363534333231\n",
      "                                    323334353637383940414243444546474849505152535455565758596061626362616059585756555453525150494847464544434241403938373635343332\n",
      "                                  3334353637383940414243444546474849505152535455565758596061626364656463626160595857565554535251504948474645444342414039383736353433\n",
      "                                34353637383940414243444546474849505152535455565758596061626364656667666564636261605958575655545352515049484746454443424140393837363534\n",
      "                              353637383940414243444546474849505152535455565758596061626364656667686968676665646362616059585756555453525150494847464544434241403938373635\n",
      "                            3637383940414243444546474849505152535455565758596061626364656667686970717069686766656463626160595857565554535251504948474645444342414039383736\n",
      "                          37383940414243444546474849505152535455565758596061626364656667686970717273727170696867666564636261605958575655545352515049484746454443424140393837\n",
      "                        383940414243444546474849505152535455565758596061626364656667686970717273747574737271706968676665646362616059585756555453525150494847464544434241403938\n",
      "                      3940414243444546474849505152535455565758596061626364656667686970717273747576777675747372717069686766656463626160595857565554535251504948474645444342414039\n",
      "                    40414243444546474849505152535455565758596061626364656667686970717273747576777879787776757473727170696867666564636261605958575655545352515049484746454443424140\n",
      "                  414243444546474849505152535455565758596061626364656667686970717273747576777879808180797877767574737271706968676665646362616059585756555453525150494847464544434241\n",
      "                4243444546474849505152535455565758596061626364656667686970717273747576777879808182838281807978777675747372717069686766656463626160595857565554535251504948474645444342\n",
      "              43444546474849505152535455565758596061626364656667686970717273747576777879808182838485848382818079787776757473727170696867666564636261605958575655545352515049484746454443\n",
      "            444546474849505152535455565758596061626364656667686970717273747576777879808182838485868786858483828180797877767574737271706968676665646362616059585756555453525150494847464544\n",
      "          4546474849505152535455565758596061626364656667686970717273747576777879808182838485868788898887868584838281807978777675747372717069686766656463626160595857565554535251504948474645\n",
      "        46474849505152535455565758596061626364656667686970717273747576777879808182838485868788899091908988878685848382818079787776757473727170696867666564636261605958575655545352515049484746\n",
      "      474849505152535455565758596061626364656667686970717273747576777879808182838485868788899091929392919089888786858483828180797877767574737271706968676665646362616059585756555453525150494847\n",
      "    4849505152535455565758596061626364656667686970717273747576777879808182838485868788899091929394959493929190898887868584838281807978777675747372717069686766656463626160595857565554535251504948\n",
      "  49505152535455565758596061626364656667686970717273747576777879808182838485868788899091929394959697969594939291908988878685848382818079787776757473727170696867666564636261605958575655545352515049\n",
      "505152535455565758596061626364656667686970717273747576777879808182838485868788899091929394959697989998979695949392919089888786858483828180797877767574737271706968676665646362616059585756555453525150\n"
     ]
    }
   ],
   "source": [
    "\n",
    "a = int(input(\"Enter a number: \"))\n",
    "if a>50:\n",
    "    raise ValueError(\"Number must be less than 50 to maintain the integrity of the universe\") \n",
    "line_length = 2*((a-1)*2+1) # 18\n",
    "for i in range(0,a):\n",
    "    y = 1 + i*2 # 1,3,5,7,9\n",
    "    print(\" \"*((line_length-y*2)//2),sep=\"\",end=\"\")\n",
    "    for j in [i for i in range(i,y)]+[i for i in range(y-2,i-1,-1)]:\n",
    "        print(\"%2d\" % (j+1),end=\"\")\n",
    "    print()\n",
    "\n",
    "\n",
    "\n"
   ]
  },
  {
   "cell_type": "markdown",
   "metadata": {},
   "source": [
    "##### 1.3"
   ]
  },
  {
   "cell_type": "code",
   "execution_count": null,
   "metadata": {},
   "outputs": [],
   "source": [
    "a = input(\"Enter a number: \")\n",
    "if len(a) != 4 or not a.isdigit():\n",
    "    raise ValueError(\"The number must be 4 digits\")\n",
    "else:\n",
    "    print(a[::-1])"
   ]
  },
  {
   "cell_type": "markdown",
   "metadata": {},
   "source": [
    "##### 1.4"
   ]
  },
  {
   "cell_type": "code",
   "execution_count": 27,
   "metadata": {},
   "outputs": [
    {
     "name": "stdout",
     "output_type": "stream",
     "text": [
      "10\n"
     ]
    }
   ],
   "source": [
    "a = input(\"Enter a number: \")\n",
    "if len(a) != 4 or not a.isdigit():\n",
    "    raise ValueError(\"The number must be 4 digits\")\n",
    "else:\n",
    "    print(sum([int(i) for i in a]))\n",
    "    "
   ]
  },
  {
   "cell_type": "markdown",
   "metadata": {},
   "source": [
    "### Part 2\n",
    "##### 2.1"
   ]
  },
  {
   "cell_type": "code",
   "execution_count": null,
   "metadata": {},
   "outputs": [],
   "source": [
    "#check if string is Palindrome\n",
    "a = input(\"Enter a string: \")\n",
    "if a == a[::-1]:\n",
    "    print(\"Palindrome\")\n",
    "else:\n",
    "    print(\"Not Palindrome\")"
   ]
  },
  {
   "cell_type": "markdown",
   "metadata": {},
   "source": [
    "##### 2.2"
   ]
  },
  {
   "cell_type": "code",
   "execution_count": null,
   "metadata": {},
   "outputs": [],
   "source": [
    "s1 = input(\"Enter string 1: \")\n",
    "s2 = input(\"Enter string 2: \")\n",
    "\n",
    "#check if s1 and s2 are anagrams\n",
    "if sorted(s1) == sorted(s2):\n",
    "    print(\"Anagrams\")\n",
    "else:\n",
    "    print(\"Not Anagrams\")"
   ]
  },
  {
   "cell_type": "markdown",
   "metadata": {},
   "source": [
    "##### 2.3"
   ]
  },
  {
   "cell_type": "code",
   "execution_count": 6,
   "metadata": {},
   "outputs": [
    {
     "name": "stdout",
     "output_type": "stream",
     "text": [
      "10\n"
     ]
    }
   ],
   "source": [
    "s = input(\"Enter a string: \")\n",
    "char_dict = {}\n",
    "char_dict = {i for i in s if i not in char_dict}\n",
    "print(len(char_dict))"
   ]
  },
  {
   "cell_type": "markdown",
   "metadata": {},
   "source": [
    "### Part 3\n",
    "##### 3.1"
   ]
  },
  {
   "cell_type": "code",
   "execution_count": 12,
   "metadata": {},
   "outputs": [
    {
     "name": "stdout",
     "output_type": "stream",
     "text": [
      "True\n"
     ]
    }
   ],
   "source": [
    "def isSorted(a: list) -> bool:\n",
    "    if a == sorted(a) or a == sorted(a,reverse=True):\n",
    "        return True\n",
    "    else:\n",
    "        return False\n",
    "print(isSorted([1,2,3,4,5]))"
   ]
  },
  {
   "cell_type": "markdown",
   "metadata": {},
   "source": [
    "##### 3.2"
   ]
  },
  {
   "cell_type": "code",
   "execution_count": 13,
   "metadata": {},
   "outputs": [
    {
     "name": "stdout",
     "output_type": "stream",
     "text": [
      "3\n"
     ]
    }
   ],
   "source": [
    "def countRange(a: list, low: int, high: int) -> int:\n",
    "    count = 0\n",
    "    for i in a:\n",
    "        if i >= low and i <= high:\n",
    "            count += 1\n",
    "    return count\n",
    "print(countRange([1,2,3,4,5],2,4))"
   ]
  },
  {
   "cell_type": "markdown",
   "metadata": {},
   "source": [
    "### Part 4\n",
    "##### 4.1"
   ]
  },
  {
   "cell_type": "code",
   "execution_count": 15,
   "metadata": {},
   "outputs": [
    {
     "name": "stdout",
     "output_type": "stream",
     "text": [
      "{'Ten': 10, 'Twenty': 20, 'Thirty': 30}\n"
     ]
    }
   ],
   "source": [
    "keys = ['Ten', 'Twenty', 'Thirty']\n",
    "values = [10, 20, 30]\n",
    "def create_dict(keys: list, values: list) -> dict:\n",
    "    return dict(zip(keys,values))\n",
    "print(create_dict(keys,values))\n"
   ]
  },
  {
   "cell_type": "markdown",
   "metadata": {},
   "source": [
    "##### 4.2"
   ]
  },
  {
   "cell_type": "code",
   "execution_count": 16,
   "metadata": {},
   "outputs": [
    {
     "name": "stdout",
     "output_type": "stream",
     "text": [
      "{1: 10, 2: 20, 3: 30, 4: 40, 5: 50, 6: 60}\n"
     ]
    }
   ],
   "source": [
    "dic1 = {1:10, 2:20}\n",
    "dic2 = {3:30, 4:40}\n",
    "dic3 = {5:50, 6:60}\n",
    "\n",
    "def merge_dict(*args) -> dict:\n",
    "    return {k:v for d in args for k,v in d.items()}\n",
    "\n",
    "print(merge_dict(dic1,dic2,dic3))"
   ]
  },
  {
   "cell_type": "markdown",
   "metadata": {},
   "source": [
    "### Part 5\n",
    "##### 5.1"
   ]
  },
  {
   "cell_type": "code",
   "execution_count": 24,
   "metadata": {},
   "outputs": [
    {
     "name": "stdout",
     "output_type": "stream",
     "text": [
      "Ardern       1\n",
      "told         1\n",
      "a            2\n",
      "press        1\n",
      "conference   1\n",
      "Tuesday      1\n",
      "authorities  1\n",
      "were         1\n",
      "assuming     1\n",
      "it           3\n",
      "was          2\n",
      "the          5\n",
      "contagious   1\n",
      "Delta        3\n",
      "variant      1\n",
      "although     1\n",
      "genome       1\n",
      "sequencing   1\n",
      "is           2\n",
      "still        1\n",
      "underway     1\n",
      "has          3\n",
      "been         3\n",
      "called       1\n",
      "gamechanger  1\n",
      "and          3\n",
      "It           1\n",
      "means        1\n",
      "we           2\n",
      "need         1\n",
      "to           3\n",
      "again        1\n",
      "go           1\n",
      "hard         1\n",
      "early        1\n",
      "stop         1\n",
      "spread.      1\n",
      "We           2\n",
      "have         1\n",
      "seen         1\n",
      "what         1\n",
      "can          1\n",
      "happen       1\n",
      "elsewhere    1\n",
      "if           1\n",
      "fail         1\n",
      "get          2\n",
      "on           1\n",
      "top          1\n",
      "of           3\n",
      "only         1\n",
      "one          1\n",
      "chance       1\n",
      "Neighboring  1\n",
      "Australia    2\n",
      "which        1\n",
      "also         1\n",
      "previously   1\n",
      "praised      1\n",
      "for          2\n",
      "its          2\n",
      "handling     1\n",
      "virus        1\n",
      "battling     1\n",
      "own          1\n",
      "outbreak     1\n",
      "last         1\n",
      "few          1\n",
      "weeks.       1\n",
      "More         1\n",
      "than         1\n",
      "half         1\n",
      "population   1\n",
      "are          1\n",
      "in           2\n",
      "lockdown     2\n",
      "country      1\n",
      "most         1\n",
      "populous     1\n",
      "city         1\n",
      "Sydney       1\n",
      "since        1\n",
      "June         1\n"
     ]
    }
   ],
   "source": [
    "with open(\"./doc.txt\",'r') as f:\n",
    "    words_counts = {}\n",
    "    for line in f:\n",
    "        for word in line.split():\n",
    "            if word in words_counts:\n",
    "                words_counts[word] += 1\n",
    "            else:\n",
    "                words_counts[word] = 1\n",
    "    for k,v in words_counts.items():\n",
    "        print(\"%-12s\" % k,v)"
   ]
  }
 ],
 "metadata": {
  "kernelspec": {
   "display_name": "Python 3.9.6 64-bit",
   "language": "python",
   "name": "python3"
  },
  "language_info": {
   "codemirror_mode": {
    "name": "ipython",
    "version": 3
   },
   "file_extension": ".py",
   "mimetype": "text/x-python",
   "name": "python",
   "nbconvert_exporter": "python",
   "pygments_lexer": "ipython3",
   "version": "3.9.6"
  },
  "orig_nbformat": 4,
  "vscode": {
   "interpreter": {
    "hash": "0d591c6e422414675974e227c13f5382000c440fedd3c5006ef2be5d887f0ba7"
   }
  }
 },
 "nbformat": 4,
 "nbformat_minor": 2
}
