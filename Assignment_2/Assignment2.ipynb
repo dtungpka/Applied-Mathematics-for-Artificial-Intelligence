{
 "cells": [
  {
   "cell_type": "markdown",
   "metadata": {},
   "source": [
    "## Assignment 2 submission\n",
    "__Name:__  Duong Doan Tung\n",
    "\n",
    "__Student number:__  21010294\n",
    "\n",
    "__Programming language used:__  Python\n",
    "\n",
    "__Programming environment used:__  Jupyter Notebook\n",
    "\n",
    "---"
   ]
  },
  {
   "cell_type": "markdown",
   "metadata": {},
   "source": [
    "## Part 1\n",
    "\n",
    "2.4 Compute the following products:"
   ]
  },
  {
   "cell_type": "code",
   "execution_count": 20,
   "metadata": {},
   "outputs": [
    {
     "name": "stdout",
     "output_type": "stream",
     "text": [
      "[[ 4  3  5]\n",
      " [10  9 11]\n",
      " [16 15 17]]\n",
      "[[ 14   6]\n",
      " [-12   5]]\n"
     ]
    }
   ],
   "source": [
    "import numpy as np\n",
    "#b\n",
    "A = np.arange(1, 10).reshape(3, 3)\n",
    "B = np.array([\n",
    "    [1,1,0],\n",
    "    [0,1,1],\n",
    "    [1,0,1]\n",
    "])\n",
    "ans = np.dot(A, B)\n",
    "print(ans)\n",
    "\n",
    "#d\n",
    "A = np.array([\n",
    "    [1,2,1,2],\n",
    "    [4,1,-4,-1],\n",
    "])\n",
    "B = np.array([\n",
    "    [0,3],\n",
    "    [1,-1],\n",
    "    [2,1],\n",
    "    [5,2]\n",
    "])\n",
    "ans = np.dot(A, B)\n",
    "print(ans)\n"
   ]
  },
  {
   "cell_type": "markdown",
   "metadata": {},
   "source": [
    "2.5b Find the set S of all solutions in x of the following inhomogeneous linear system Ax = b, where A and b are defined as follows:"
   ]
  },
  {
   "cell_type": "code",
   "execution_count": 21,
   "metadata": {},
   "outputs": [
    {
     "name": "stdout",
     "output_type": "stream",
     "text": [
      "[[4.]\n",
      " [0.]\n",
      " [4.]\n",
      " [0.]]\n"
     ]
    }
   ],
   "source": [
    "import numpy.linalg as la\n",
    "import scipy.linalg as spla\n",
    "A = np.array([\n",
    "    [1,-1,0,0,1],\n",
    "    [1,1,0,-3,0],\n",
    "    [2,-1,0,1,-1],\n",
    "    [-1,2,0,-2,-1]\n",
    "])\n",
    "#remove the 3rd column\n",
    "A = np.delete(A, 2, 1)\n",
    "B = np.array([3,6,5,-1]).reshape(4,1)\n",
    "\n",
    "X = np.dot(la.inv(A), B)\n",
    "print(X)"
   ]
  },
  {
   "cell_type": "markdown",
   "metadata": {},
   "source": [
    "2.11 Write \n",
    "```python\n",
    "y = [[1],\n",
    "     [-2],\n",
    "     [5]]\n",
    "```\n",
    "as a linear combination of the vectors \n",
    "```python\n",
    "x1 = [[1],\n",
    "      [1],\n",
    "      [1]]\n",
    "x2 = [[1],\n",
    "      [2],\n",
    "      [3]]\n",
    "x3 = [[2],\n",
    "      [-1],\n",
    "      [1]]\n",
    "```\n"
   ]
  },
  {
   "cell_type": "code",
   "execution_count": 22,
   "metadata": {},
   "outputs": [
    {
     "name": "stdout",
     "output_type": "stream",
     "text": [
      "[[-6.  3.  2.]]\n"
     ]
    }
   ],
   "source": [
    "x1 = np.array([[1],\n",
    "      [1],\n",
    "      [1]])\n",
    "x2 = np.array([[1],\n",
    "      [2],\n",
    "      [3]])\n",
    "x3 = np.array([[2],\n",
    "      [-1],\n",
    "      [1]])\n",
    "\n",
    "#y is linear combination of x1, x2, x3\n",
    "y = np.array([[1],[-2],[5]])\n",
    "\n",
    "#solve for alpha1, alpha2, alpha3\n",
    "X = np.hstack((x1, x2, x3))\n",
    "A = np.dot(la.inv(X), y)\n",
    "print(A.T)\n"
   ]
  },
  {
   "cell_type": "markdown",
   "metadata": {},
   "source": [
    "Or in the mathematical form:\n",
    "-6x1 + 3x2 + 2x3 = y"
   ]
  },
  {
   "cell_type": "markdown",
   "metadata": {},
   "source": [
    "3.3 Compute the distance between x,y"
   ]
  },
  {
   "cell_type": "code",
   "execution_count": 23,
   "metadata": {},
   "outputs": [
    {
     "name": "stdout",
     "output_type": "stream",
     "text": [
      "-3\n",
      "-8\n"
     ]
    }
   ],
   "source": [
    "X = np.array([[1],\n",
    "        [2],\n",
    "        [3]])\n",
    "Y = np.array([[-1],\n",
    "        [-1],\n",
    "        [0]])\n",
    "\n",
    "#distance between X and Y using inner product (a)\n",
    "dist = np.dot(X.T, Y)\n",
    "print(dist[0,0])\n",
    "#(b)\n",
    "A = np.array([[2,1,0],\n",
    "              [1,3,-1],\n",
    "              [0,-1,2]])\n",
    "dist = np.dot(np.dot(X.T, A), Y)\n",
    "print(dist[0,0])"
   ]
  },
  {
   "cell_type": "markdown",
   "metadata": {},
   "source": [
    "4.2 Compute the following determinants efficiently:"
   ]
  },
  {
   "cell_type": "code",
   "execution_count": 24,
   "metadata": {},
   "outputs": [
    {
     "name": "stdout",
     "output_type": "stream",
     "text": [
      "6.000000000000003\n"
     ]
    }
   ],
   "source": [
    "\n",
    "A = np.array([  [2,0,1,2,0],\n",
    "                [2,-1,0,1,1],\n",
    "                [0,1,2,1,2],\n",
    "                [-2,0,2,-1,2],\n",
    "                [2,0,0,1,1]\n",
    "            ])\n",
    "#deteminant of A\n",
    "det = la.det(A)\n",
    "print(det)"
   ]
  },
  {
   "cell_type": "markdown",
   "metadata": {},
   "source": [
    "4.4 Comute all eigenspaces of the following matrix:"
   ]
  },
  {
   "cell_type": "code",
   "execution_count": 25,
   "metadata": {},
   "outputs": [
    {
     "name": "stdout",
     "output_type": "stream",
     "text": [
      "(array([ 2.        ,  1.        , -1.00000002, -0.99999998]), array([[ 5.77350269e-01,  5.00000000e-01,  1.58709825e-08,\n",
      "         1.58709821e-08],\n",
      "       [-1.44897623e-16,  5.00000000e-01, -7.07106773e-01,\n",
      "         7.07106789e-01],\n",
      "       [ 5.77350269e-01,  5.00000000e-01, -7.07106789e-01,\n",
      "         7.07106773e-01],\n",
      "       [ 5.77350269e-01,  5.00000000e-01,  3.20493788e-17,\n",
      "        -6.19518495e-17]]))\n"
     ]
    }
   ],
   "source": [
    "\n",
    "A = np.array([  [0,-1,1,1],\n",
    "                [-1,1,-2,3],\n",
    "                [2,-1,0,0],\n",
    "                [1,-1,1,0]\n",
    "            ])\n",
    "#eigenspace of A\n",
    "eig = la.eig(A)\n",
    "print(eig)\n"
   ]
  },
  {
   "cell_type": "markdown",
   "metadata": {},
   "source": [
    "4.7d Are the following matrices diagonalizable? If yes, determine their diagonal\n",
    "form and a basis with respect to which the transformation matrices are diagonal. If no, give reasons why they are not diagonalizable"
   ]
  },
  {
   "cell_type": "code",
   "execution_count": 26,
   "metadata": {},
   "outputs": [
    {
     "name": "stdout",
     "output_type": "stream",
     "text": [
      "A is not diagonalizable\n"
     ]
    }
   ],
   "source": [
    "'''\n",
    "A = \n",
    "\n",
    "5 −6 −6\n",
    "−1 4 2\n",
    "3 −6 −4\n",
    "'''\n",
    "A = np.array([  [5,-6,-6],\n",
    "                [-1,4,2],\n",
    "                [3,-6,-4]\n",
    "            ])\n",
    "#check if A diagonalizable or not\n",
    "iA = la.inv(A)\n",
    "eig = la.eig(A)\n",
    "\n",
    "if np.allclose(np.dot(iA, A), np.diag(eig[0])):\n",
    "    print('A is diagonalizable')\n",
    "else:\n",
    "    print('A is not diagonalizable')\n",
    "\n",
    "\n"
   ]
  },
  {
   "cell_type": "markdown",
   "metadata": {},
   "source": [
    "4.9 Find the singular value decomposition"
   ]
  },
  {
   "cell_type": "code",
   "execution_count": 27,
   "metadata": {},
   "outputs": [
    {
     "name": "stdout",
     "output_type": "stream",
     "text": [
      "[[-1.00000000e+00  1.11022302e-16]\n",
      " [ 8.64164897e-17  1.00000000e+00]]\n",
      "[2.82842712 1.41421356]\n",
      "[[-0.70710678 -0.70710678]\n",
      " [-0.70710678  0.70710678]]\n"
     ]
    }
   ],
   "source": [
    "A = np.array([  [2,2],\n",
    "                [-1,1]])\n",
    "#find the singular value decomposition of A\n",
    "U, s, V = la.svd(A)\n",
    "print(U)\n",
    "print(s)\n",
    "print(V)"
   ]
  },
  {
   "cell_type": "markdown",
   "metadata": {},
   "source": [
    "## Part 2\n",
    "A"
   ]
  },
  {
   "cell_type": "code",
   "execution_count": 28,
   "metadata": {},
   "outputs": [
    {
     "name": "stdout",
     "output_type": "stream",
     "text": [
      "[ 0  1  2  3  4  5  6  7  8  9 10 11 12 13 14 15 16 17 18 19 20 21 22 23\n",
      " 24 25 26 27 28 29]\n",
      "(30,)\n"
     ]
    }
   ],
   "source": [
    "\n",
    "import numpy as np\n",
    "#Use arange to create a variable named foo that stores an array of numbers from 0 to 29, inclusive. Print foo and its shape.\n",
    "foo = np.arange(30)\n",
    "print(foo)\n",
    "print(foo.shape)\n",
    "\n",
    "\n"
   ]
  },
  {
   "cell_type": "markdown",
   "metadata": {},
   "source": [
    "B"
   ]
  },
  {
   "cell_type": "code",
   "execution_count": 29,
   "metadata": {},
   "outputs": [
    {
     "name": "stdout",
     "output_type": "stream",
     "text": [
      "[[ 0  1  2  3  4]\n",
      " [ 5  6  7  8  9]\n",
      " [10 11 12 13 14]\n",
      " [15 16 17 18 19]\n",
      " [20 21 22 23 24]\n",
      " [25 26 27 28 29]]\n",
      "(6, 5)\n"
     ]
    }
   ],
   "source": [
    "#Use the reshape function to change foo to a validly-shaped two-dimensional matrix and store it in a new variable called bar. Print bar and its shape.\n",
    "bar = foo.reshape(6,5)\n",
    "print(bar)\n",
    "print(bar.shape)"
   ]
  },
  {
   "cell_type": "markdown",
   "metadata": {},
   "source": [
    "C"
   ]
  },
  {
   "cell_type": "code",
   "execution_count": 30,
   "metadata": {},
   "outputs": [
    {
     "name": "stdout",
     "output_type": "stream",
     "text": [
      "[[[ 0  1  2  3  4]\n",
      "  [ 5  6  7  8  9]\n",
      "  [10 11 12 13 14]]\n",
      "\n",
      " [[15 16 17 18 19]\n",
      "  [20 21 22 23 24]\n",
      "  [25 26 27 28 29]]]\n",
      "(2, 3, 5)\n"
     ]
    }
   ],
   "source": [
    "baz = foo.reshape(2,3,5)\n",
    "print(baz)\n",
    "print(baz.shape)"
   ]
  },
  {
   "cell_type": "markdown",
   "metadata": {},
   "source": [
    "D"
   ]
  },
  {
   "cell_type": "code",
   "execution_count": 31,
   "metadata": {},
   "outputs": [
    {
     "name": "stdout",
     "output_type": "stream",
     "text": [
      "[[ 0  1  2  3  4]\n",
      " [ 5  6  7  8  9]\n",
      " [10 11 12 13 14]\n",
      " [15 16 17 18 19]\n",
      " [20 21 22 23 24]\n",
      " [25 26 27 28 29]]\n",
      "[[ 0  1  2  3  4]\n",
      " [-1  6  7  8  9]\n",
      " [10 11 12 13 14]\n",
      " [15 16 17 18 19]\n",
      " [20 21 22 23 24]\n",
      " [25 26 27 28 29]]\n",
      "[[ 10]\n",
      " [ 29]\n",
      " [ 60]\n",
      " [ 85]\n",
      " [110]\n",
      " [135]]\n"
     ]
    }
   ],
   "source": [
    "#D\n",
    "print(bar)\n",
    "\n",
    "#change first value row 2 to -1\n",
    "bar[1,0] = -1\n",
    "print(bar)\n",
    "\n",
    "print(np.sum(bar, axis=1, keepdims=True))"
   ]
  },
  {
   "cell_type": "markdown",
   "metadata": {},
   "source": [
    "E"
   ]
  },
  {
   "cell_type": "code",
   "execution_count": 32,
   "metadata": {},
   "outputs": [
    {
     "name": "stdout",
     "output_type": "stream",
     "text": [
      "[[[ 0  1  2  3  4]\n",
      "  [-1  6  7  8  9]\n",
      "  [10 11 12 13 14]]\n",
      "\n",
      " [[15 16 17 18 19]\n",
      "  [20 21 22 23 24]\n",
      "  [25 26 27 28 29]]]\n",
      "[[ 9 18 21 24 27]\n",
      " [60 63 66 69 72]]\n",
      "[[ 10  29  60]\n",
      " [ 85 110 135]]\n",
      "[[15 17 19 21 23]\n",
      " [19 27 29 31 33]\n",
      " [35 37 39 41 43]]\n",
      "[ 95 139 195]\n"
     ]
    }
   ],
   "source": [
    "print(baz)\n",
    "#Sum baz over its second dimension and print the result.\n",
    "print(baz.sum(axis=1))\n",
    "#Sum baz over its third dimension and print the result.\n",
    "print(baz.sum(axis=2))\n",
    "\n",
    "print(baz.sum(axis=0))\n",
    "#Sum baz over both its first and third dimensions and print the result.\n",
    "print(baz.sum(axis=(0,2)))"
   ]
  },
  {
   "cell_type": "markdown",
   "metadata": {},
   "source": [
    "F"
   ]
  },
  {
   "cell_type": "code",
   "execution_count": 33,
   "metadata": {},
   "outputs": [
    {
     "name": "stdout",
     "output_type": "stream",
     "text": [
      "[[ 0  1  2  3  4]\n",
      " [-1  6  7  8  9]\n",
      " [10 11 12 13 14]\n",
      " [15 16 17 18 19]\n",
      " [20 21 22 23 24]\n",
      " [25 26 27 28 29]]\n",
      "[-1  6  7  8  9]\n",
      "[ 4  9 14 19 24 29]\n",
      "[[3 4]\n",
      " [8 9]]\n"
     ]
    }
   ],
   "source": [
    "#F\n",
    "print(bar)\n",
    "#Slice out the second row of bar and print it.\n",
    "print(bar[1,:])\n",
    "#Slice out the last column of bar using the -1 notation and print it.\n",
    "print(bar[:,-1])\n",
    "#Slice out the top right 2 × 2 submatrix of bar and print it\n",
    "print(bar[:2,3:])\n",
    "\n",
    "\n"
   ]
  },
  {
   "cell_type": "markdown",
   "metadata": {},
   "source": [
    "## Part 3\n",
    "A"
   ]
  },
  {
   "cell_type": "code",
   "execution_count": 34,
   "metadata": {},
   "outputs": [
    {
     "name": "stdout",
     "output_type": "stream",
     "text": [
      "[ 1  2  3  4  5  6  7  8  9 10]\n"
     ]
    }
   ],
   "source": [
    "#create a vector 1, 2, . . . , 10 by adding 1 to the result of the arange function.\n",
    "foo = np.arange(0,10)\n",
    "foo = foo + 1\n",
    "print(foo)"
   ]
  },
  {
   "cell_type": "markdown",
   "metadata": {},
   "source": [
    "B"
   ]
  },
  {
   "cell_type": "code",
   "execution_count": 35,
   "metadata": {},
   "outputs": [
    {
     "name": "stdout",
     "output_type": "stream",
     "text": [
      "[[ 2  3  4  5  6  7  8  9 10 11]\n",
      " [ 3  4  5  6  7  8  9 10 11 12]\n",
      " [ 4  5  6  7  8  9 10 11 12 13]\n",
      " [ 5  6  7  8  9 10 11 12 13 14]\n",
      " [ 6  7  8  9 10 11 12 13 14 15]\n",
      " [ 7  8  9 10 11 12 13 14 15 16]\n",
      " [ 8  9 10 11 12 13 14 15 16 17]\n",
      " [ 9 10 11 12 13 14 15 16 17 18]\n",
      " [10 11 12 13 14 15 16 17 18 19]\n",
      " [11 12 13 14 15 16 17 18 19 20]]\n"
     ]
    }
   ],
   "source": [
    "#, create a 10 × 10 matrix A in which Aij = i + j. You’ll be able to do this using the vector you just\n",
    "#created, and adding it to a reshaped version of itself\n",
    "print(foo.reshape(10,1) + foo)"
   ]
  },
  {
   "cell_type": "markdown",
   "metadata": {},
   "source": [
    "C"
   ]
  },
  {
   "cell_type": "code",
   "execution_count": 36,
   "metadata": {},
   "outputs": [],
   "source": [
    "#A very common use of broadcasting is to standardize data, i.e., to make it have zero mean and unit variance.\n",
    "#First, create a fake “data set” with 50 examples, each with five dimension\n",
    "\n",
    "data = np.exp(np.random.randn(50,5))"
   ]
  },
  {
   "cell_type": "markdown",
   "metadata": {},
   "source": [
    "D"
   ]
  },
  {
   "cell_type": "code",
   "execution_count": 37,
   "metadata": {},
   "outputs": [
    {
     "name": "stdout",
     "output_type": "stream",
     "text": [
      "[1.9849997  1.60560892 1.99496802 1.63900606 1.01935199]\n",
      "[2.75443754 1.74432188 3.30689691 1.88321963 0.8300159 ]\n"
     ]
    }
   ],
   "source": [
    "#, compute the mean and standard deviation of each column. This should result in two vectors of length 5. You’ll need to think a little bit about how to use the axis argument to mean and std. Store these\n",
    "#vectors into variables and print both of them.\n",
    "\n",
    "mean = np.mean(data, axis=0)\n",
    "std = np.std(data, axis=0)\n",
    "print(mean)\n",
    "print(std)\n"
   ]
  },
  {
   "cell_type": "markdown",
   "metadata": {},
   "source": [
    "E"
   ]
  },
  {
   "cell_type": "code",
   "execution_count": 38,
   "metadata": {},
   "outputs": [
    {
     "name": "stdout",
     "output_type": "stream",
     "text": [
      "[-1.91513472e-17  1.66533454e-17  4.77395901e-17 -2.30926389e-16\n",
      "  3.79696274e-16]\n",
      "[1. 1. 1. 1. 1.]\n"
     ]
    }
   ],
   "source": [
    "#Now standardize the data matrix by 1) subtracting the mean off of each column, and 2) dividing each\n",
    "#column by its standard deviation. Do this via broadcasting, and store the result in a matrix called\n",
    "#normalized. To verify that you successfully did it, compute the mean and standard deviation of\n",
    "#the columns of normalized and print them out\n",
    "\n",
    "normalized = (data - mean)/std\n",
    "print(np.mean(normalized, axis=0))\n",
    "print(np.std(normalized, axis=0))\n",
    "\n"
   ]
  },
  {
   "cell_type": "markdown",
   "metadata": {},
   "source": [
    "## Part 4\n",
    "A"
   ]
  },
  {
   "cell_type": "code",
   "execution_count": 44,
   "metadata": {},
   "outputs": [
    {
     "name": "stdout",
     "output_type": "stream",
     "text": [
      "[[          1           1           1           1           1           1\n",
      "            1           1           1           1           1           1]\n",
      " [          1           2           4           8          16          32\n",
      "           64         128         256         512        1024        2048]\n",
      " [          1           3           9          27          81         243\n",
      "          729        2187        6561       19683       59049      177147]\n",
      " [          1           4          16          64         256        1024\n",
      "         4096       16384       65536      262144     1048576     4194304]\n",
      " [          1           5          25         125         625        3125\n",
      "        15625       78125      390625     1953125     9765625    48828125]\n",
      " [          1           6          36         216        1296        7776\n",
      "        46656      279936     1679616    10077696    60466176   362797056]\n",
      " [          1           7          49         343        2401       16807\n",
      "       117649      823543     5764801    40353607   282475249  1977326743]\n",
      " [          1           8          64         512        4096       32768\n",
      "       262144     2097152    16777216   134217728  1073741824           0]\n",
      " [          1           9          81         729        6561       59049\n",
      "       531441     4782969    43046721   387420489  -808182895  1316288537]\n",
      " [          1          10         100        1000       10000      100000\n",
      "      1000000    10000000   100000000  1000000000  1410065408  1215752192]\n",
      " [          1          11         121        1331       14641      161051\n",
      "      1771561    19487171   214358881 -1937019605   167620825  1843829075]\n",
      " [          1          12         144        1728       20736      248832\n",
      "      2985984    35831808   429981696   864813056  1787822080   -20971520]]\n"
     ]
    }
   ],
   "source": [
    "#Create a function that produce a vandermonde matrix\n",
    "def vandermonde(N):\n",
    "    vec = np.arange(1,N+1)\n",
    "    return vec.reshape(N,1)**np.arange(N)\n",
    "vander = vandermonde(12)\n",
    "print(vander)"
   ]
  },
  {
   "cell_type": "markdown",
   "metadata": {},
   "source": [
    "B"
   ]
  },
  {
   "cell_type": "code",
   "execution_count": 45,
   "metadata": {},
   "outputs": [
    {
     "name": "stdout",
     "output_type": "stream",
     "text": [
      "[1.20000000e+01 4.09500000e+03 2.65720000e+05 5.59240500e+06\n",
      " 6.10351560e+07 4.35356467e+08 2.30688120e+09 1.22713351e+09\n",
      " 9.43953692e+08 3.73692871e+09 3.10225064e+08 3.10073456e+09]\n"
     ]
    }
   ],
   "source": [
    "#Now, let’s make a pretend linear system problem with this matrix. Create a vector of all ones, of length 12 and call it x. Perform a matrix-vector multiplication of vander with the vector you just created and store\n",
    "#that in a new vector and call it b. Print the vector b.\n",
    "\n",
    "x = np.ones(12)\n",
    "b = np.dot(vander, x)\n",
    "print(b)\n"
   ]
  },
  {
   "cell_type": "markdown",
   "metadata": {},
   "source": [
    "C"
   ]
  },
  {
   "cell_type": "code",
   "execution_count": 46,
   "metadata": {},
   "outputs": [
    {
     "name": "stdout",
     "output_type": "stream",
     "text": [
      "[0.997715   1.00320816 0.99892426 1.00016022 0.9999876  1.\n",
      " 1.00000007 1.         1.         1.         1.         1.        ]\n"
     ]
    }
   ],
   "source": [
    "#First, solve the linear system the naïve way, pretending like you don’t know x. Import numpy.linalg,\n",
    "#invert V and multiply it by b. Print out your result. What should you get for your answer? If the answer is\n",
    "#different than what you expected, write a sentence about that difference.\n",
    "\n",
    "x = np.dot(la.inv(vander), b)\n",
    "print(x)\n"
   ]
  },
  {
   "cell_type": "markdown",
   "metadata": {},
   "source": [
    "D"
   ]
  },
  {
   "cell_type": "code",
   "execution_count": 47,
   "metadata": {},
   "outputs": [
    {
     "name": "stdout",
     "output_type": "stream",
     "text": [
      "[1.00002643 0.99993457 1.00006231 0.99996941 1.00000858 0.99999858\n",
      " 1.00000014 0.99999999 1.         1.         1.         1.        ]\n"
     ]
    }
   ],
   "source": [
    "#Now, solve the same linear system using solve. Print out the result. Does it seem more or less in line\n",
    "#with what you’d expect\n",
    "\n",
    "x = la.solve(vander, b)\n",
    "print(x)"
   ]
  },
  {
   "cell_type": "markdown",
   "metadata": {},
   "source": [
    "## Part 5\n",
    "A"
   ]
  },
  {
   "cell_type": "code",
   "execution_count": 48,
   "metadata": {},
   "outputs": [
    {
     "data": {
      "image/png": "[encoded data removed]",
      "text/plain": [
       "<Figure size 432x288 with 1 Axes>"
      ]
     },
     "metadata": {
      "needs_background": "light"
     },
     "output_type": "display_data"
    }
   ],
   "source": [
    "#load the coords.pkl and plot the points (file have a numpy array of 2D points 296x2)\n",
    "import pickle\n",
    "import matplotlib.pyplot as plt\n",
    "with open('coords.pkl', 'rb') as f:\n",
    "    coords = pickle.load(f)\n",
    "plt.scatter(coords[:,0], coords[:,1])\n",
    "plt.show()\n"
   ]
  },
  {
   "cell_type": "markdown",
   "metadata": {},
   "source": [
    "B"
   ]
  },
  {
   "cell_type": "code",
   "execution_count": 53,
   "metadata": {},
   "outputs": [
    {
     "data": {
      "image/png": "[encoded data removed]",
      "text/plain": [
       "<Figure size 432x288 with 2 Axes>"
      ]
     },
     "metadata": {
      "needs_background": "light"
     },
     "output_type": "display_data"
    }
   ],
   "source": [
    "omega = np.pi/2\n",
    "rotated = np.array([[np.cos(omega), -np.sin(omega)],\n",
    "                    [np.sin(omega), np.cos(omega)]])\n",
    "rotated_coords = np.dot(coords, rotated)\n",
    "#create a sub plot with 3 plots\n",
    "fig, ax = plt.subplots(1,2)\n",
    "ax[0].scatter(coords[:,0], coords[:,1])\n",
    "ax[1].scatter(rotated_coords[:,0], rotated_coords[:,1])\n",
    "plt.show()\n"
   ]
  },
  {
   "cell_type": "code",
   "execution_count": 54,
   "metadata": {},
   "outputs": [
    {
     "data": {
      "image/png": "[encoded data removed]",
      "text/plain": [
       "<Figure size 432x288 with 2 Axes>"
      ]
     },
     "metadata": {
      "needs_background": "light"
     },
     "output_type": "display_data"
    }
   ],
   "source": [
    "scale_factor = (2,2)\n",
    "scaled = np.array([[scale_factor[0], 0],\n",
    "                     [0, scale_factor[1]]]) \n",
    "scaled_coords = np.dot(coords, scaled)\n",
    "fig, ax = plt.subplots(1,2)\n",
    "ax[0].scatter(coords[:,0], coords[:,1])\n",
    "ax[1].scatter(scaled_coords[:,0], scaled_coords[:,1])\n",
    "plt.show()"
   ]
  },
  {
   "cell_type": "code",
   "execution_count": 55,
   "metadata": {},
   "outputs": [
    {
     "data": {
      "image/png": "[encoded data removed]",
      "text/plain": [
       "<Figure size 432x288 with 2 Axes>"
      ]
     },
     "metadata": {
      "needs_background": "light"
     },
     "output_type": "display_data"
    }
   ],
   "source": [
    "shear_factor = (1,1)\n",
    "shear = np.array([[1, shear_factor[0]],\n",
    "                        [shear_factor[1], 1]])\n",
    "sheared_coords = np.dot(coords, shear)\n",
    "fig, ax = plt.subplots(1,2)\n",
    "ax[0].scatter(coords[:,0], coords[:,1])\n",
    "ax[1].scatter(sheared_coords[:,0], sheared_coords[:,1])\n",
    "\n",
    "plt.show()"
   ]
  }
 ],
 "metadata": {
  "kernelspec": {
   "display_name": "Python 3.9.6 64-bit",
   "language": "python",
   "name": "python3"
  },
  "language_info": {
   "codemirror_mode": {
    "name": "ipython",
    "version": 3
   },
   "file_extension": ".py",
   "mimetype": "text/x-python",
   "name": "python",
   "nbconvert_exporter": "python",
   "pygments_lexer": "ipython3",
   "version": "3.9.6"
  },
  "orig_nbformat": 4,
  "vscode": {
   "interpreter": {
    "hash": "0d591c6e422414675974e227c13f5382000c440fedd3c5006ef2be5d887f0ba7"
   }
  }
 },
 "nbformat": 4,
 "nbformat_minor": 2
}
