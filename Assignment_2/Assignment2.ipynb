{
 "cells": [
  {
   "cell_type": "markdown",
   "metadata": {},
   "source": [
    "## Assignment 2 submission\n",
    "__Name:__  Duong Doan Tung\n",
    "\n",
    "__Student number:__  21010294\n",
    "\n",
    "__Programming language used:__  Python\n",
    "\n",
    "__Programming environment used:__  Jupyter Notebook\n",
    "\n",
    "---"
   ]
  },
  {
   "cell_type": "markdown",
   "metadata": {},
   "source": [
    "## Part 1\n",
    "\n",
    "2.4 Compute the following products:"
   ]
  },
  {
   "cell_type": "code",
   "execution_count": 2,
   "metadata": {},
   "outputs": [
    {
     "name": "stdout",
     "output_type": "stream",
     "text": [
      "[[ 4  3  5]\n",
      " [10  9 11]\n",
      " [16 15 17]]\n",
      "[[ 14   6]\n",
      " [-12   5]]\n"
     ]
    }
   ],
   "source": [
    "import numpy as np\n",
    "#b\n",
    "A = np.arange(1, 10).reshape(3, 3)\n",
    "B = np.array([\n",
    "    [1,1,0],\n",
    "    [0,1,1],\n",
    "    [1,0,1]\n",
    "])\n",
    "ans = np.dot(A, B)\n",
    "print(ans)\n",
    "\n",
    "#d\n",
    "A = np.array([\n",
    "    [1,2,1,2],\n",
    "    [4,1,-4,-1],\n",
    "])\n",
    "B = np.array([\n",
    "    [0,3],\n",
    "    [1,-1],\n",
    "    [2,1],\n",
    "    [5,2]\n",
    "])\n",
    "ans = np.dot(A, B)\n",
    "print(ans)\n"
   ]
  },
  {
   "cell_type": "markdown",
   "metadata": {},
   "source": [
    "2.5b Find the set S of all solutions in x of the following inhomogeneous linear system Ax = b, where A and b are defined as follows:"
   ]
  },
  {
   "cell_type": "code",
   "execution_count": 5,
   "metadata": {},
   "outputs": [
    {
     "name": "stdout",
     "output_type": "stream",
     "text": [
      "[[4.]\n",
      " [0.]\n",
      " [4.]\n",
      " [0.]]\n"
     ]
    }
   ],
   "source": [
    "import numpy.linalg as la\n",
    "import scipy.linalg as spla\n",
    "A = np.array([\n",
    "    [1,-1,0,0,1],\n",
    "    [1,1,0,-3,0],\n",
    "    [2,-1,0,1,-1],\n",
    "    [-1,2,0,-2,-1]\n",
    "])\n",
    "#remove the 3rd column\n",
    "A = np.delete(A, 2, 1)\n",
    "B = np.array([3,6,5,-1]).reshape(4,1)\n",
    "\n",
    "X = np.dot(la.inv(A), B)\n",
    "print(X)"
   ]
  },
  {
   "cell_type": "markdown",
   "metadata": {},
   "source": [
    "2.11 Write \n",
    "```python\n",
    "y = [[1],\n",
    "     [-2],\n",
    "     [5]]\n",
    "```\n",
    "as a linear combination of the vectors \n",
    "```python\n",
    "x1 = [[1],\n",
    "      [1],\n",
    "      [1]]\n",
    "x2 = [[1],\n",
    "      [2],\n",
    "      [3]]\n",
    "x3 = [[2],\n",
    "      [-1],\n",
    "      [1]]\n",
    "```\n"
   ]
  },
  {
   "cell_type": "code",
   "execution_count": 12,
   "metadata": {},
   "outputs": [
    {
     "name": "stdout",
     "output_type": "stream",
     "text": [
      "[[-6.  3.  2.]]\n"
     ]
    }
   ],
   "source": [
    "x1 = np.array([[1],\n",
    "      [1],\n",
    "      [1]])\n",
    "x2 = np.array([[1],\n",
    "      [2],\n",
    "      [3]])\n",
    "x3 = np.array([[2],\n",
    "      [-1],\n",
    "      [1]])\n",
    "\n",
    "#y is linear combination of x1, x2, x3\n",
    "y = np.array([[1],[-2],[5]])\n",
    "\n",
    "#solve for alpha1, alpha2, alpha3\n",
    "X = np.hstack((x1, x2, x3))\n",
    "A = np.dot(la.inv(X), y)\n",
    "print(A.T)\n"
   ]
  },
  {
   "cell_type": "markdown",
   "metadata": {},
   "source": [
    "Or in the mathematical form:\n",
    "-6x1 + 3x2 + 2x3 = y"
   ]
  },
  {
   "cell_type": "markdown",
   "metadata": {},
   "source": [
    "3.3 Compute the distance between x,y"
   ]
  },
  {
   "cell_type": "code",
   "execution_count": 15,
   "metadata": {},
   "outputs": [
    {
     "name": "stdout",
     "output_type": "stream",
     "text": [
      "-3\n",
      "-8\n"
     ]
    }
   ],
   "source": [
    "X = np.array([[1],\n",
    "        [2],\n",
    "        [3]])\n",
    "Y = np.array([[-1],\n",
    "        [-1],\n",
    "        [0]])\n",
    "\n",
    "#distance between X and Y using inner product (a)\n",
    "dist = np.dot(X.T, Y)\n",
    "print(dist[0,0])\n",
    "#(b)\n",
    "A = np.array([[2,1,0],\n",
    "              [1,3,-1],\n",
    "              [0,-1,2]])\n",
    "dist = np.dot(np.dot(X.T, A), Y)\n",
    "print(dist[0,0])"
   ]
  },
  {
   "cell_type": "markdown",
   "metadata": {},
   "source": [
    "4.2 Compute the following determinants efficiently:"
   ]
  },
  {
   "cell_type": "code",
   "execution_count": 16,
   "metadata": {},
   "outputs": [
    {
     "name": "stdout",
     "output_type": "stream",
     "text": [
      "6.000000000000003\n"
     ]
    }
   ],
   "source": [
    "\n",
    "A = np.array([  [2,0,1,2,0],\n",
    "                [2,-1,0,1,1],\n",
    "                [0,1,2,1,2],\n",
    "                [-2,0,2,-1,2],\n",
    "                [2,0,0,1,1]\n",
    "            ])\n",
    "#deteminant of A\n",
    "det = la.det(A)\n",
    "print(det)"
   ]
  },
  {
   "cell_type": "markdown",
   "metadata": {},
   "source": [
    "4.4 Comute all eigenspaces of the following matrix:"
   ]
  },
  {
   "cell_type": "code",
   "execution_count": 17,
   "metadata": {},
   "outputs": [
    {
     "name": "stdout",
     "output_type": "stream",
     "text": [
      "(array([ 2.        ,  1.        , -1.00000002, -0.99999998]), array([[ 5.77350269e-01,  5.00000000e-01,  1.58709825e-08,\n",
      "         1.58709821e-08],\n",
      "       [-1.44897623e-16,  5.00000000e-01, -7.07106773e-01,\n",
      "         7.07106789e-01],\n",
      "       [ 5.77350269e-01,  5.00000000e-01, -7.07106789e-01,\n",
      "         7.07106773e-01],\n",
      "       [ 5.77350269e-01,  5.00000000e-01,  3.20493788e-17,\n",
      "        -6.19518495e-17]]))\n"
     ]
    }
   ],
   "source": [
    "\n",
    "A = np.array([  [0,-1,1,1],\n",
    "                [-1,1,-2,3],\n",
    "                [2,-1,0,0],\n",
    "                [1,-1,1,0]\n",
    "            ])\n",
    "#eigenspace of A\n",
    "eig = la.eig(A)\n",
    "print(eig)\n"
   ]
  },
  {
   "cell_type": "markdown",
   "metadata": {},
   "source": [
    "4.7d Are the following matrices diagonalizable? If yes, determine their diagonal\n",
    "form and a basis with respect to which the transformation matrices are diagonal. If no, give reasons why they are not diagonalizable"
   ]
  },
  {
   "cell_type": "code",
   "execution_count": 21,
   "metadata": {},
   "outputs": [
    {
     "name": "stdout",
     "output_type": "stream",
     "text": [
      "A is not diagonalizable\n"
     ]
    }
   ],
   "source": [
    "'''\n",
    "A = \n",
    "\n",
    "5 −6 −6\n",
    "−1 4 2\n",
    "3 −6 −4\n",
    "'''\n",
    "A = np.array([  [5,-6,-6],\n",
    "                [-1,4,2],\n",
    "                [3,-6,-4]\n",
    "            ])\n",
    "#check if A diagonalizable or not\n",
    "iA = la.inv(A)\n",
    "eig = la.eig(A)\n",
    "\n",
    "if np.allclose(np.dot(iA, A), np.diag(eig[0])):\n",
    "    print('A is diagonalizable')\n",
    "else:\n",
    "    print('A is not diagonalizable')\n",
    "\n",
    "\n"
   ]
  },
  {
   "cell_type": "markdown",
   "metadata": {},
   "source": [
    "4.9 Find the singular value decomposition"
   ]
  },
  {
   "cell_type": "code",
   "execution_count": 22,
   "metadata": {},
   "outputs": [
    {
     "name": "stdout",
     "output_type": "stream",
     "text": [
      "[[-1.00000000e+00  1.11022302e-16]\n",
      " [ 8.64164897e-17  1.00000000e+00]]\n",
      "[2.82842712 1.41421356]\n",
      "[[-0.70710678 -0.70710678]\n",
      " [-0.70710678  0.70710678]]\n"
     ]
    }
   ],
   "source": [
    "A = np.array([  [2,2],\n",
    "                [-1,1]])\n",
    "#find the singular value decomposition of A\n",
    "U, s, V = la.svd(A)\n",
    "print(U)\n",
    "print(s)\n",
    "print(V)"
   ]
  },
  {
   "cell_type": "markdown",
   "metadata": {},
   "source": [
    "## Part 2\n",
    "A"
   ]
  },
  {
   "cell_type": "code",
   "execution_count": 5,
   "metadata": {},
   "outputs": [
    {
     "name": "stdout",
     "output_type": "stream",
     "text": [
      "[ 4  5  6  7  8  9 10 11 12 13 14 15 16 17 18 19 20 21 22 23 24 25 26 27\n",
      " 28 29]\n",
      "(26,)\n"
     ]
    }
   ],
   "source": [
    "\n",
    "import numpy as np\n",
    "#Use arange to create a variable named foo that stores an array of numbers from 0 to 29, inclusive. Print foo and its shape.\n",
    "foo = np.arange(30)\n",
    "print(foo)\n",
    "print(foo.shape)\n",
    "\n",
    "\n"
   ]
  },
  {
   "cell_type": "markdown",
   "metadata": {},
   "source": [
    "B"
   ]
  },
  {
   "cell_type": "code",
   "execution_count": 2,
   "metadata": {},
   "outputs": [
    {
     "name": "stdout",
     "output_type": "stream",
     "text": [
      "[[ 0  1  2  3  4]\n",
      " [ 5  6  7  8  9]\n",
      " [10 11 12 13 14]\n",
      " [15 16 17 18 19]\n",
      " [20 21 22 23 24]\n",
      " [25 26 27 28 29]]\n",
      "(6, 5)\n"
     ]
    }
   ],
   "source": [
    "#Use the reshape function to change foo to a validly-shaped two-dimensional matrix and store it in a new variable called bar. Print bar and its shape.\n",
    "bar = foo.reshape(6,5)\n",
    "print(bar)\n",
    "print(bar.shape)"
   ]
  },
  {
   "cell_type": "markdown",
   "metadata": {},
   "source": [
    "C"
   ]
  },
  {
   "cell_type": "code",
   "execution_count": 4,
   "metadata": {},
   "outputs": [
    {
     "name": "stdout",
     "output_type": "stream",
     "text": [
      "[[[ 0  1  2  3  4]\n",
      "  [ 5  6  7  8  9]\n",
      "  [10 11 12 13 14]]\n",
      "\n",
      " [[15 16 17 18 19]\n",
      "  [20 21 22 23 24]\n",
      "  [25 26 27 28 29]]]\n"
     ]
    }
   ],
   "source": [
    "baz = foo.reshape(2,3,5)\n",
    "print(baz)\n",
    "print(baz.shape)"
   ]
  },
  {
   "cell_type": "markdown",
   "metadata": {},
   "source": [
    "D"
   ]
  },
  {
   "cell_type": "code",
   "execution_count": 13,
   "metadata": {},
   "outputs": [
    {
     "name": "stdout",
     "output_type": "stream",
     "text": [
      "[[ 0  1  2  3  4]\n",
      " [-1  6  7  8  9]\n",
      " [10 11 12 13 14]\n",
      " [15 16 17 18 19]\n",
      " [20 21 22 23 24]\n",
      " [25 26 27 28 29]]\n",
      "[[ 0  1  2  3  4]\n",
      " [-1  6  7  8  9]\n",
      " [10 11 12 13 14]\n",
      " [15 16 17 18 19]\n",
      " [20 21 22 23 24]\n",
      " [25 26 27 28 29]]\n",
      "[[ 10]\n",
      " [ 29]\n",
      " [ 60]\n",
      " [ 85]\n",
      " [110]\n",
      " [135]]\n"
     ]
    }
   ],
   "source": [
    "#D\n",
    "print(bar)\n",
    "\n",
    "#change first value row 2 to -1\n",
    "bar[1,0] = -1\n",
    "print(bar)\n",
    "\n",
    "print(np.sum(bar, axis=1, keepdims=True))"
   ]
  },
  {
   "cell_type": "markdown",
   "metadata": {},
   "source": [
    "E"
   ]
  },
  {
   "cell_type": "code",
   "execution_count": 15,
   "metadata": {},
   "outputs": [
    {
     "name": "stdout",
     "output_type": "stream",
     "text": [
      "[[[ 0  1  2  3  4]\n",
      "  [-1  6  7  8  9]\n",
      "  [10 11 12 13 14]]\n",
      "\n",
      " [[15 16 17 18 19]\n",
      "  [20 21 22 23 24]\n",
      "  [25 26 27 28 29]]]\n",
      "[[ 9 18 21 24 27]\n",
      " [60 63 66 69 72]]\n",
      "[[ 10  29  60]\n",
      " [ 85 110 135]]\n",
      "[[15 17 19 21 23]\n",
      " [19 27 29 31 33]\n",
      " [35 37 39 41 43]]\n",
      "[ 95 139 195]\n"
     ]
    }
   ],
   "source": [
    "print(baz)\n",
    "#Sum baz over its second dimension and print the result.\n",
    "print(baz.sum(axis=1))\n",
    "#Sum baz over its third dimension and print the result.\n",
    "print(baz.sum(axis=2))\n",
    "\n",
    "print(baz.sum(axis=0))\n",
    "#Sum baz over both its first and third dimensions and print the result.\n",
    "print(baz.sum(axis=(0,2)))"
   ]
  },
  {
   "cell_type": "markdown",
   "metadata": {},
   "source": [
    "F"
   ]
  },
  {
   "cell_type": "code",
   "execution_count": 18,
   "metadata": {},
   "outputs": [
    {
     "name": "stdout",
     "output_type": "stream",
     "text": [
      "[[ 0  1  2  3  4]\n",
      " [-1  6  7  8  9]\n",
      " [10 11 12 13 14]\n",
      " [15 16 17 18 19]\n",
      " [20 21 22 23 24]\n",
      " [25 26 27 28 29]]\n",
      "[-1  6  7  8  9]\n",
      "[ 4  9 14 19 24 29]\n",
      "[[3 4]\n",
      " [8 9]]\n"
     ]
    }
   ],
   "source": [
    "#F\n",
    "print(bar)\n",
    "#Slice out the second row of bar and print it.\n",
    "print(bar[1,:])\n",
    "#Slice out the last column of bar using the -1 notation and print it.\n",
    "print(bar[:,-1])\n",
    "#Slice out the top right 2 × 2 submatrix of bar and print it\n",
    "print(bar[:2,3:])\n",
    "\n",
    "\n"
   ]
  },
  {
   "cell_type": "markdown",
   "metadata": {},
   "source": [
    "## Part 3\n",
    "A"
   ]
  }
 ],
 "metadata": {
  "kernelspec": {
   "display_name": "Python 3.9.6 64-bit",
   "language": "python",
   "name": "python3"
  },
  "language_info": {
   "codemirror_mode": {
    "name": "ipython",
    "version": 3
   },
   "file_extension": ".py",
   "mimetype": "text/x-python",
   "name": "python",
   "nbconvert_exporter": "python",
   "pygments_lexer": "ipython3",
   "version": "3.9.6"
  },
  "orig_nbformat": 4,
  "vscode": {
   "interpreter": {
    "hash": "0d591c6e422414675974e227c13f5382000c440fedd3c5006ef2be5d887f0ba7"
   }
  }
 },
 "nbformat": 4,
 "nbformat_minor": 2
}
