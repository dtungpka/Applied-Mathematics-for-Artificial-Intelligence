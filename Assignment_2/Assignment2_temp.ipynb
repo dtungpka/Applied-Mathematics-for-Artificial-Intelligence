{
 "cells": [
  {
   "cell_type": "code",
   "execution_count": null,
   "metadata": {},
   "outputs": [],
   "source": []
  },
  {
   "cell_type": "markdown",
   "metadata": {},
   "source": [
    "## Part 2\n",
    "#### A"
   ]
  },
  {
   "cell_type": "code",
   "execution_count": 5,
   "metadata": {},
   "outputs": [
    {
     "name": "stdout",
     "output_type": "stream",
     "text": [
      "[ 4  5  6  7  8  9 10 11 12 13 14 15 16 17 18 19 20 21 22 23 24 25 26 27\n",
      " 28 29]\n",
      "(26,)\n"
     ]
    }
   ],
   "source": [
    "\n",
    "import numpy as np\n",
    "#Use arange to create a variable named foo that stores an array of numbers from 0 to 29, inclusive. Print foo and its shape.\n",
    "foo = np.arange(30)\n",
    "print(foo)\n",
    "print(foo.shape)\n",
    "\n",
    "\n"
   ]
  },
  {
   "cell_type": "markdown",
   "metadata": {},
   "source": [
    "B"
   ]
  },
  {
   "cell_type": "code",
   "execution_count": 2,
   "metadata": {},
   "outputs": [
    {
     "name": "stdout",
     "output_type": "stream",
     "text": [
      "[[ 0  1  2  3  4]\n",
      " [ 5  6  7  8  9]\n",
      " [10 11 12 13 14]\n",
      " [15 16 17 18 19]\n",
      " [20 21 22 23 24]\n",
      " [25 26 27 28 29]]\n",
      "(6, 5)\n"
     ]
    }
   ],
   "source": [
    "#Use the reshape function to change foo to a validly-shaped two-dimensional matrix and store it in a new variable called bar. Print bar and its shape.\n",
    "bar = foo.reshape(6,5)\n",
    "print(bar)\n",
    "print(bar.shape)"
   ]
  },
  {
   "cell_type": "code",
   "execution_count": 4,
   "metadata": {},
   "outputs": [
    {
     "name": "stdout",
     "output_type": "stream",
     "text": [
      "[[[ 0  1  2  3  4]\n",
      "  [ 5  6  7  8  9]\n",
      "  [10 11 12 13 14]]\n",
      "\n",
      " [[15 16 17 18 19]\n",
      "  [20 21 22 23 24]\n",
      "  [25 26 27 28 29]]]\n"
     ]
    }
   ],
   "source": [
    "baz = foo.reshape(2,3,5)\n",
    "print(baz)\n",
    "print(baz.shape)"
   ]
  },
  {
   "cell_type": "code",
   "execution_count": 13,
   "metadata": {},
   "outputs": [
    {
     "name": "stdout",
     "output_type": "stream",
     "text": [
      "[[ 0  1  2  3  4]\n",
      " [-1  6  7  8  9]\n",
      " [10 11 12 13 14]\n",
      " [15 16 17 18 19]\n",
      " [20 21 22 23 24]\n",
      " [25 26 27 28 29]]\n",
      "[[ 0  1  2  3  4]\n",
      " [-1  6  7  8  9]\n",
      " [10 11 12 13 14]\n",
      " [15 16 17 18 19]\n",
      " [20 21 22 23 24]\n",
      " [25 26 27 28 29]]\n",
      "[[ 10]\n",
      " [ 29]\n",
      " [ 60]\n",
      " [ 85]\n",
      " [110]\n",
      " [135]]\n"
     ]
    }
   ],
   "source": [
    "#D\n",
    "print(bar)\n",
    "\n",
    "#change first value row 2 to -1\n",
    "bar[1,0] = -1\n",
    "print(bar)\n",
    "\n",
    "print(np.sum(bar, axis=1, keepdims=True))"
   ]
  },
  {
   "cell_type": "code",
   "execution_count": 15,
   "metadata": {},
   "outputs": [
    {
     "name": "stdout",
     "output_type": "stream",
     "text": [
      "[[[ 0  1  2  3  4]\n",
      "  [-1  6  7  8  9]\n",
      "  [10 11 12 13 14]]\n",
      "\n",
      " [[15 16 17 18 19]\n",
      "  [20 21 22 23 24]\n",
      "  [25 26 27 28 29]]]\n",
      "[[ 9 18 21 24 27]\n",
      " [60 63 66 69 72]]\n",
      "[[ 10  29  60]\n",
      " [ 85 110 135]]\n",
      "[[15 17 19 21 23]\n",
      " [19 27 29 31 33]\n",
      " [35 37 39 41 43]]\n",
      "[ 95 139 195]\n"
     ]
    }
   ],
   "source": [
    "print(baz)\n",
    "#Sum baz over its second dimension and print the result.\n",
    "print(baz.sum(axis=1))\n",
    "#Sum baz over its third dimension and print the result.\n",
    "print(baz.sum(axis=2))\n",
    "\n",
    "print(baz.sum(axis=0))\n",
    "#Sum baz over both its first and third dimensions and print the result.\n",
    "print(baz.sum(axis=(0,2)))"
   ]
  },
  {
   "cell_type": "code",
   "execution_count": 18,
   "metadata": {},
   "outputs": [
    {
     "name": "stdout",
     "output_type": "stream",
     "text": [
      "[[ 0  1  2  3  4]\n",
      " [-1  6  7  8  9]\n",
      " [10 11 12 13 14]\n",
      " [15 16 17 18 19]\n",
      " [20 21 22 23 24]\n",
      " [25 26 27 28 29]]\n",
      "[-1  6  7  8  9]\n",
      "[ 4  9 14 19 24 29]\n",
      "[[3 4]\n",
      " [8 9]]\n"
     ]
    }
   ],
   "source": [
    "#F\n",
    "print(bar)\n",
    "#Slice out the second row of bar and print it.\n",
    "print(bar[1,:])\n",
    "#Slice out the last column of bar using the -1 notation and print it.\n",
    "print(bar[:,-1])\n",
    "#Slice out the top right 2 × 2 submatrix of bar and print it\n",
    "print(bar[:2,3:])\n",
    "\n",
    "\n"
   ]
  }
 ],
 "metadata": {
  "kernelspec": {
   "display_name": "Python 3.10.4 64-bit",
   "language": "python",
   "name": "python3"
  },
  "language_info": {
   "codemirror_mode": {
    "name": "ipython",
    "version": 3
   },
   "file_extension": ".py",
   "mimetype": "text/x-python",
   "name": "python",
   "nbconvert_exporter": "python",
   "pygments_lexer": "ipython3",
   "version": "3.10.4"
  },
  "orig_nbformat": 4,
  "vscode": {
   "interpreter": {
    "hash": "916dbcbb3f70747c44a77c7bcd40155683ae19c65e1c03b4aa3499c5328201f1"
   }
  }
 },
 "nbformat": 4,
 "nbformat_minor": 2
}
