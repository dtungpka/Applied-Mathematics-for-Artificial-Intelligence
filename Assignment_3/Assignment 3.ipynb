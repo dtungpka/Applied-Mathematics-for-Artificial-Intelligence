{
 "cells": [
  {
   "cell_type": "markdown",
   "metadata": {},
   "source": [
    "## Assignment 3 submission\n",
    "__Name:__  Duong Doan Tung\n",
    "\n",
    "__Student ID:__  21010294\n",
    "\n",
    "__Programming language used:__  Python\n",
    "\n",
    "__Programming environment used:__  Jupyter Notebook\n",
    "\n",
    "---"
   ]
  },
  {
   "cell_type": "markdown",
   "metadata": {},
   "source": [
    "Run the following cell to import the required libraries."
   ]
  },
  {
   "cell_type": "code",
   "execution_count": null,
   "metadata": {},
   "outputs": [],
   "source": [
    "import numpy as np\n",
    "import matplotlib.pyplot as plt"
   ]
  },
  {
   "cell_type": "markdown",
   "metadata": {},
   "source": [
    "#### Problem 1"
   ]
  },
  {
   "cell_type": "code",
   "execution_count": null,
   "metadata": {},
   "outputs": [],
   "source": [
    "#Problem 1\n",
    "# f(x,y,z) = x**2 * y + sin(z + 6 * y)\n",
    "\n",
    "def f(x,y,z):\n",
    "    return x**2 * y + np.sin(z + 6 * y)\n",
    "\n",
    "# a)\n",
    "#partial derivatives of f\n",
    "def df_dx(x,y,z):\n",
    "    return 2 * x * y\n",
    "\n",
    "def df_dy(x,y,z):\n",
    "    return x**2 + 6 * np.cos(z + 6 * y)\n",
    "\n",
    "def df_dz(x,y,z):\n",
    "    return np.cos(z + 6 * y)\n",
    "\n",
    "# b)\n",
    "#f take a vector of length 3 as input\n",
    "#show the gradient of f at (3,pi/2,0)\n",
    "x = 3\n",
    "y = np.pi/2\n",
    "z = 0\n",
    "print(\"Gradient of f at (3,pi/2,0) is: \", np.array([df_dx(x,y,z), df_dy(x,y,z), df_dz(x,y,z)]))\n"
   ]
  },
  {
   "cell_type": "markdown",
   "metadata": {},
   "source": [
    "#### Problem 2"
   ]
  },
  {
   "cell_type": "code",
   "execution_count": null,
   "metadata": {},
   "outputs": [],
   "source": [
    "#Problem 2\n",
    "#f(x,y,z) = x*sin(x*y)\n",
    "\n",
    "# a)\n",
    "#partial derivatives of f(x,y)\n",
    "def df_dy(x,y):\n",
    "    return x**2 * np.cos(x * y)\n",
    "def df_dx_dy(x,y):\n",
    "    return 2*x*np.cos(x*y) - x**2*y*np.sin(x*y) \n",
    "\n",
    "# b)\n",
    "def df_dx(x,y):\n",
    "    return np.sin(x*y) + x*y*np.cos(x*y)\n",
    "def df_dy_dx(x,y):\n",
    "    return 2*x*np.cos(x*y) - x**2*y*np.sin(x*y)"
   ]
  },
  {
   "cell_type": "markdown",
   "metadata": {},
   "source": [
    "#### Problem 3"
   ]
  },
  {
   "cell_type": "code",
   "execution_count": null,
   "metadata": {},
   "outputs": [],
   "source": [
    "#Problem 3\n",
    "print()\n",
    "\n",
    "# a)\n",
    "def f(x):\n",
    "    return x.T @ A@x\n",
    "# b)\n",
    "def grad_f(A,x):\n",
    "    return 2*A@x\n",
    "# c)\n",
    "def grad_descent(A,x,l,num_inters):\n",
    "    for i in range(num_inters):\n",
    "        x = x - l*grad_f(A,x)\n",
    "        print(\"\\rLearning rate: \", l, \"Iteration: \", i+1, \"x: \", x,end = \"\")\n",
    "    return x\n",
    "\n",
    "# d)\n",
    "A = np.array([[1,0],[0,4]])\n",
    "X = np.random.randint(10,100,2)\n",
    "L = [1,0.25,0.1,0.01]\n",
    "for l in L:\n",
    "    grad_descent(A,X,l,50)\n",
    "    print('\\n------------------------------------')\n"
   ]
  },
  {
   "cell_type": "markdown",
   "metadata": {},
   "source": [
    "#### Problem 4"
   ]
  },
  {
   "cell_type": "code",
   "execution_count": null,
   "metadata": {},
   "outputs": [],
   "source": [
    "#Problem 4\n",
    "#f(x) = [sin(x1*x2*x3),\n",
    "#       cos(x2 + x3),\n",
    "#       exp(-1/2*(x2))]\n",
    "# a)\n",
    "#calculate the jacobi matrix of f at x = (1,2,3).T\n",
    "def f(x):\n",
    "    return np.array([np.sin(x[0]*x[1]*x[2]), np.cos(x[1] + x[2]), np.exp(-1/2*(x[1]))])\n",
    "\n",
    "def df_dx1(x):\n",
    "    return np.array([x[1]*x[2]*np.cos(x[0]*x[1]*x[2]), 0, 0])\n",
    "\n",
    "def df_dx2(x):\n",
    "    return np.array([x[0]*x[2]*np.cos(x[0]*x[1]*x[2]), -1*np.sin(x[1] + x[2]), 0])\n",
    "\n",
    "def df_dx3(x):\n",
    "    return np.array([x[0]*x[1]*np.cos(x[0]*x[1]*x[2]), -1*np.sin(x[1] + x[2]), -1*x[2]*np.exp(-1/2*(x[2]**2))])\n",
    "\n",
    "x = np.array([1,2,3])\n",
    "print(\"Jacobi matrix of f at x = (1,2,3) is: \\n\", np.array([df_dx1(x), df_dx2(x), df_dx3(x)]).T)\n",
    "        \n",
    "\n",
    "# b)\n",
    "\n",
    "#Determinant of jacob x:\n",
    "def det_jacob_x(x):\n",
    "    return np.linalg.det(np.array([df_dx1(x), df_dx2(x), df_dx3(x)]).T)\n",
    "\n",
    "#or \n",
    "def det_jacob_x2(x):\n",
    "    return x[1]*x[2]**2*(np.exp(-1/2*(x[2]**2))*np.cos(x[0]*x[1]*x[2])*np.sin(x[1]+x[2]))\n",
    "\n",
    "print(\"Determinant of jacob x is: \", det_jacob_x(x))\n",
    "print(\"Determinant of jacob x is: \", det_jacob_x2(x))\n",
    "\n",
    "#check if jacob is full rank matrix\n",
    "print(\"Is jacob full rank matrix? \", np.linalg.matrix_rank(np.array([df_dx1(x), df_dx2(x), df_dx3(x)]).T) == 3)\n"
   ]
  },
  {
   "cell_type": "markdown",
   "metadata": {},
   "source": [
    "#### Problem 5"
   ]
  },
  {
   "cell_type": "code",
   "execution_count": null,
   "metadata": {},
   "outputs": [],
   "source": [
    "'''\n",
    "\n",
    "TBA\n",
    "\n",
    "'''"
   ]
  },
  {
   "cell_type": "markdown",
   "metadata": {},
   "source": [
    "#### Problem 6"
   ]
  },
  {
   "cell_type": "code",
   "execution_count": null,
   "metadata": {},
   "outputs": [],
   "source": [
    "#Problem 6\n",
    "# a)\n",
    "\n",
    "def sigmoid(x):\n",
    "    return 1/(1+np.exp(-x))\n",
    "def dsigmoid(x):\n",
    "    return sigmoid(x)*(1-sigmoid(x))\n",
    "def dsigmoid2(x):\n",
    "    return np.exp(-x)/((1+np.exp(-x))**2)\n",
    "\n",
    "#Verify that dsigmoid == dsigmoid 2\n",
    "x = np.linspace(-10,10,100)\n",
    "fig, ax = plt.subplots(1,2)\n",
    "ax[0].plot(x,dsigmoid(x))\n",
    "ax[0].set_title(\"dsigmoid\")\n",
    "ax[1].plot(x,dsigmoid2(x))\n",
    "ax[1].set_title(\"dsigmoid2\")\n",
    "plt.show()\n",
    "\n",
    "\n",
    "# b)\n",
    "\n",
    "'''\n",
    "\n",
    "TBA\n",
    "\n",
    "'''"
   ]
  }
 ],
 "metadata": {
  "kernelspec": {
   "display_name": "Python 3.9.13 64-bit",
   "language": "python",
   "name": "python3"
  },
  "language_info": {
   "name": "python",
   "version": "3.9.13"
  },
  "orig_nbformat": 4,
  "vscode": {
   "interpreter": {
    "hash": "0d591c6e422414675974e227c13f5382000c440fedd3c5006ef2be5d887f0ba7"
   }
  }
 },
 "nbformat": 4,
 "nbformat_minor": 2
}
