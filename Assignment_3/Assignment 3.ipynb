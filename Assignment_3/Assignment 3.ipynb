{
 "cells": [
  {
   "cell_type": "markdown",
   "metadata": {},
   "source": [
    "## Assignment 3 submission\n",
    "__Name:__  Duong Doan Tung\n",
    "\n",
    "__Student ID:__  21010294\n",
    "\n",
    "__Programming language used:__  Python\n",
    "\n",
    "__Programming environment used:__  Jupyter Notebook\n",
    "\n",
    "---"
   ]
  },
  {
   "cell_type": "markdown",
   "metadata": {},
   "source": [
    "Run the following cell to import the required libraries."
   ]
  },
  {
   "cell_type": "code",
   "execution_count": 1,
   "metadata": {},
   "outputs": [],
   "source": [
    "import numpy as np\n",
    "import matplotlib.pyplot as plt"
   ]
  },
  {
   "cell_type": "markdown",
   "metadata": {},
   "source": [
    "#### Problem 1"
   ]
  },
  {
   "cell_type": "code",
   "execution_count": 2,
   "metadata": {},
   "outputs": [
    {
     "name": "stdout",
     "output_type": "stream",
     "text": [
      "Gradient of f at (3,pi/2,0) is:  [ 9.42477796  3.         -1.        ]\n"
     ]
    }
   ],
   "source": [
    "#Problem 1\n",
    "# f(x,y,z) = x**2 * y + sin(z + 6 * y)\n",
    "\n",
    "def f(x,y,z):\n",
    "    return x**2 * y + np.sin(z + 6 * y)\n",
    "\n",
    "# a)\n",
    "#partial derivatives of f\n",
    "def df_dx(x,y,z):\n",
    "    return 2 * x * y\n",
    "\n",
    "def df_dy(x,y,z):\n",
    "    return x**2 + 6 * np.cos(z + 6 * y)\n",
    "\n",
    "def df_dz(x,y,z):\n",
    "    return np.cos(z + 6 * y)\n",
    "\n",
    "# b)\n",
    "#f take a vector of length 3 as input\n",
    "#show the gradient of f at (3,pi/2,0)\n",
    "x = 3\n",
    "y = np.pi/2\n",
    "z = 0\n",
    "print(\"Gradient of f at (3,pi/2,0) is: \", np.array([df_dx(x,y,z), df_dy(x,y,z), df_dz(x,y,z)]))\n"
   ]
  },
  {
   "cell_type": "markdown",
   "metadata": {},
   "source": [
    "#### Problem 2"
   ]
  },
  {
   "cell_type": "code",
   "execution_count": 3,
   "metadata": {},
   "outputs": [],
   "source": [
    "#Problem 2\n",
    "#f(x,y,z) = x*sin(x*y)\n",
    "\n",
    "# a)\n",
    "#partial derivatives of f(x,y)\n",
    "def df_dy(x,y):\n",
    "    return x**2 * np.cos(x * y)\n",
    "def df_dx_dy(x,y):\n",
    "    return 2*x*np.cos(x*y) - x**2*y*np.sin(x*y) \n",
    "\n",
    "# b)\n",
    "def df_dx(x,y):\n",
    "    return np.sin(x*y) + x*y*np.cos(x*y)\n",
    "def df_dy_dx(x,y):\n",
    "    return 2*x*np.cos(x*y) - x**2*y*np.sin(x*y)\n",
    "\n"
   ]
  },
  {
   "cell_type": "markdown",
   "metadata": {},
   "source": [
    "#### Problem 3"
   ]
  },
  {
   "cell_type": "code",
   "execution_count": null,
   "metadata": {},
   "outputs": [],
   "source": [
    "#Problem 3\n",
    "print()\n",
    "\n",
    "# a)\n",
    "def f(x):\n",
    "    return x.T @ A@x\n",
    "# b)\n",
    "def grad_f(A,x):\n",
    "    return 2*A@x\n",
    "# c)\n",
    "def grad_descent(A,x,l,num_inters):\n",
    "    for i in range(num_inters):\n",
    "        x = x - l*grad_f(A,x)\n",
    "        print(\"\\rLearning rate: \", l, \"Iteration: \", i+1, \"x: \", x,end = \"\")\n",
    "    return x\n",
    "\n",
    "# d)\n",
    "A = np.array([[1,0],[0,4]])\n",
    "X = np.random.randint(10,100,2)\n",
    "L = [1,0.25,0.1,0.01]\n",
    "for l in L:\n",
    "    grad_descent(A,X,l,50)\n",
    "    print('\\n------------------------------------')\n"
   ]
  },
  {
   "cell_type": "markdown",
   "metadata": {},
   "source": [
    "#### Problem 4"
   ]
  },
  {
   "cell_type": "code",
   "execution_count": null,
   "metadata": {},
   "outputs": [],
   "source": [
    "#Problem 4\n",
    "#f(x) = [sin(x1*x2*x3),\n",
    "#       cos(x2 + x3),\n",
    "#       exp(-1/2*(x2))]\n",
    "# a)\n",
    "#calculate the jacobi matrix of f at x = (1,2,3).T\n",
    "def f(x):\n",
    "    return np.array([np.sin(x[0]*x[1]*x[2]), np.cos(x[1] + x[2]), np.exp(-1/2*(x[1]))])\n",
    "\n",
    "def df_dx1(x):\n",
    "    return np.array([x[1]*x[2]*np.cos(x[0]*x[1]*x[2]), 0, 0])\n",
    "\n",
    "def df_dx2(x):\n",
    "    return np.array([x[0]*x[2]*np.cos(x[0]*x[1]*x[2]), -1*np.sin(x[1] + x[2]), 0])\n",
    "\n",
    "def df_dx3(x):\n",
    "    return np.array([x[0]*x[1]*np.cos(x[0]*x[1]*x[2]), -1*np.sin(x[1] + x[2]), -1*x[2]*np.exp(-1/2*(x[2]**2))])\n",
    "\n",
    "x = np.array([1,2,3])\n",
    "print(\"Jacobi matrix of f at x = (1,2,3) is: \\n\", np.array([df_dx1(x), df_dx2(x), df_dx3(x)]).T)\n",
    "        \n",
    "\n",
    "# b)\n",
    "\n",
    "#Determinant of jacob x:\n",
    "def det_jacob_x(x):\n",
    "    return np.linalg.det(np.array([df_dx1(x), df_dx2(x), df_dx3(x)]).T)\n",
    "\n",
    "#or \n",
    "def det_jacob_x2(x):\n",
    "    return x[1]*x[2]**2*(np.exp(-1/2*(x[2]**2))*np.cos(x[0]*x[1]*x[2])*np.sin(x[1]+x[2]))\n",
    "\n",
    "print(\"Determinant of jacob x is: \", det_jacob_x(x))\n",
    "print(\"Determinant of jacob x is: \", det_jacob_x2(x))\n",
    "\n",
    "#check if jacob is full rank matrix\n",
    "print(\"Is jacob full rank matrix? \", np.linalg.matrix_rank(np.array([df_dx1(x), df_dx2(x), df_dx3(x)]).T) == 3)\n"
   ]
  },
  {
   "cell_type": "markdown",
   "metadata": {},
   "source": [
    "#### Problem 5"
   ]
  },
  {
   "cell_type": "code",
   "execution_count": 49,
   "metadata": {},
   "outputs": [
    {
     "name": "stdout",
     "output_type": "stream",
     "text": [
      "Gradient of trace(X) is:  [[2 4 6]]\n",
      "Gradient of x-mu is: \n",
      " [[0.27991596 0.83304578 0.11059282]\n",
      " [1.27991596 1.83304578 1.11059282]\n",
      " [2.27991596 2.83304578 2.11059282]]\n",
      "Gradient of c-Ax is: \n",
      " [[1.45490253 3.4375156  3.58436509]\n",
      " [1.7187578  8.67700135 7.11933701]\n",
      " [1.69380478 7.42653686 9.10214642]]\n",
      "Gradient of c+Ax is: \n",
      " [-13.61353783 -13.64577089 -17.98127044]\n"
     ]
    }
   ],
   "source": [
    "x = np.array([1,2,3]).reshape(3,1)\n",
    "mu = np.random.rand(3)\n",
    "sig = np.array([[1,0,0],[0,1,0],[0,0,1]])\n",
    "A = np.random.rand(3,5)\n",
    "B = np.random.rand(3,5)\n",
    "c = np.random.rand(5).reshape(1,5)\n",
    "\n",
    "\n",
    "\n",
    "\n",
    "\n",
    "# a)\n",
    "\n",
    "def grad_traceX(X):\n",
    "    return 2*X.T\n",
    "\n",
    "print(\"Gradient of trace(X) is: \", grad_traceX(x))\n",
    "\n",
    "# b)\n",
    "\n",
    "def grad_x_mu(x,mu,sig):\n",
    "    #get all value in diagonal of sig\n",
    "    diag_sig = np.diag(sig)\n",
    "    return (x-mu)/diag_sig\n",
    "\n",
    "print(\"Gradient of x-mu is: \\n\", grad_x_mu(x,mu,sig))\n",
    "\n",
    "# c)\n",
    "def grad_c_Ax(c,A,x):\n",
    "    temp = A * x\n",
    "    temp[-1,:] = temp[-1,:] - c\n",
    "    return 2 * (A @ temp.T)\n",
    " \n",
    "print(\"Gradient of c-Ax is: \\n\", grad_c_Ax(c,A,x))\n",
    "\n",
    "# d)\n",
    "def grad_c_Ax_2(c,A,B,x):\n",
    "    \n",
    "    R1 = np.array([A[:,v] if i % 2 == 0 else -B[:,v] for i,v in enumerate(sorted([y for y in range(A.shape[1])]*2))]).T\n",
    "    #init R2 with matrx 1x10 with value form c: c1,c1,c2,c2...\n",
    "    R2 = np.array([c[0,i]  for i in sorted([y for y in range(c.shape[1])]*2)])\n",
    "    for z in range(A.shape[0]):\n",
    "        Rtemp = np.array([A[z,v] if i % 2 == 1 else -B[z,v] for i,v in enumerate(sorted(\n",
    "            [y for y in range(A.shape[1])]*2))]).T *x[z]\n",
    "        R2 = R2 + Rtemp\n",
    "    return R1 @ R2\n",
    " \n",
    "print(\"Gradient of c+Ax is: \\n\", grad_c_Ax_2(c,A,B,x))\n",
    "\n",
    "\n"
   ]
  },
  {
   "cell_type": "markdown",
   "metadata": {},
   "source": [
    "#### Problem 6"
   ]
  },
  {
   "cell_type": "code",
   "execution_count": 4,
   "metadata": {},
   "outputs": [
    {
     "data": {
      "image/png": "[encoded data removed]",
      "text/plain": [
       "<Figure size 640x480 with 2 Axes>"
      ]
     },
     "metadata": {},
     "output_type": "display_data"
    },
    {
     "name": "stdout",
     "output_type": "stream",
     "text": [
      "dc_do:  [-0.26894142 -0.03597242 -0.00037018]\n",
      "dc_d0_2:  [-0.26894142 -0.03597242 -0.00037018]\n"
     ]
    }
   ],
   "source": [
    "#Problem 6\n",
    "# a)\n",
    "\n",
    "def sigmoid(x):\n",
    "    return 1/(1+np.exp(-x))\n",
    "def dsigmoid(x):\n",
    "    return sigmoid(x)*(1-sigmoid(x))\n",
    "def dsigmoid2(x):\n",
    "    return np.exp(-x)/((1+np.exp(-x))**2)\n",
    "\n",
    "#Verify that dsigmoid == dsigmoid 2\n",
    "x = np.linspace(-10,10,100)\n",
    "fig, ax = plt.subplots(1,2)\n",
    "ax[0].plot(x,dsigmoid(x))\n",
    "ax[0].set_title(\"dsigmoid\")\n",
    "ax[1].plot(x,dsigmoid2(x))\n",
    "ax[1].set_title(\"dsigmoid2\")\n",
    "plt.show()\n",
    "\n",
    "\n",
    "# b)\n",
    "\n",
    "def c(o,x,y):\n",
    "    return -y*np.log(1/(1+np.exp(-o.T*x))) - (1-y)*np.log(1-1/(1+np.exp(-o.T*x)))\n",
    "\n",
    "def dc_do(o,x,y):\n",
    "    return (1/(1+np.exp(-o.T*x))-y)*x\n",
    "\n",
    "def dc_d0_2(o,x,y):\n",
    "    return (sigmoid(o.T*x)-y)*x.T\n",
    "\n",
    "#Verify that dc_do == dc_d0_2\n",
    "o = np.array([1,2,3])\n",
    "x = np.array([1,2,3])\n",
    "y = 1\n",
    "print(\"dc_do: \", dc_do(o,x,y))\n",
    "print(\"dc_d0_2: \", dc_d0_2(o,x,y))\n",
    "\n"
   ]
  },
  {
   "cell_type": "code",
   "execution_count": 5,
   "metadata": {},
   "outputs": [
    {
     "name": "stdout",
     "output_type": "stream",
     "text": [
      "a\n",
      "ab\n",
      "abc\n",
      "abcd\n",
      "abcde\n",
      "b\n",
      "bc\n",
      "bcd\n",
      "bcde\n",
      "c\n",
      "cd\n",
      "cde\n",
      "d\n",
      "de\n",
      "e\n"
     ]
    }
   ],
   "source": [
    "\n",
    "s = 'abcde'\n",
    "def subString(s):\n",
    "  for i in range(len(s)):\n",
    "    for j in range(i+1, len(s)+1):\n",
    "      print(s[i:j])\n",
    "subString(s)"
   ]
  }
 ],
 "metadata": {
  "kernelspec": {
   "display_name": "Python 3.9.13 64-bit",
   "language": "python",
   "name": "python3"
  },
  "language_info": {
   "codemirror_mode": {
    "name": "ipython",
    "version": 3
   },
   "file_extension": ".py",
   "mimetype": "text/x-python",
   "name": "python",
   "nbconvert_exporter": "python",
   "pygments_lexer": "ipython3",
   "version": "3.9.13"
  },
  "orig_nbformat": 4,
  "vscode": {
   "interpreter": {
    "hash": "0d591c6e422414675974e227c13f5382000c440fedd3c5006ef2be5d887f0ba7"
   }
  }
 },
 "nbformat": 4,
 "nbformat_minor": 2
}
